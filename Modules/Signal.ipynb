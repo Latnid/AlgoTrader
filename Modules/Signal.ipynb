{
 "cells": [
  {
   "cell_type": "code",
   "execution_count": 3,
   "id": "e99c9bfe-f34b-4d45-9d4c-25524e9e43eb",
   "metadata": {},
   "outputs": [],
   "source": [
    "import Trade"
   ]
  },
  {
   "cell_type": "code",
   "execution_count": 6,
   "id": "07280d7d-639c-491c-ae71-ee453d949222",
   "metadata": {},
   "outputs": [
    {
     "name": "stdout",
     "output_type": "stream",
     "text": [
      "Paper API connected\n",
      "Go long order submitted:\n",
      "Order ID: b043c257-8550-4872-bf17-996bb9d59958\n",
      "Entry point: 100\n",
      "Take profit point: 120\n",
      "Stop loss point: 79.2\n"
     ]
    }
   ],
   "source": [
    "AAL_long_order = Trade.go_long('AAL',100,100,120,80)"
   ]
  },
  {
   "cell_type": "code",
   "execution_count": null,
   "id": "31b63c3e-8188-4bba-b4c7-9daf43da9323",
   "metadata": {},
   "outputs": [],
   "source": [
    "Trade.api_access()"
   ]
  }
 ],
 "metadata": {
  "kernelspec": {
   "display_name": "FinTech",
   "language": "python",
   "name": "fintech"
  },
  "language_info": {
   "codemirror_mode": {
    "name": "ipython",
    "version": 3
   },
   "file_extension": ".py",
   "mimetype": "text/x-python",
   "name": "python",
   "nbconvert_exporter": "python",
   "pygments_lexer": "ipython3",
   "version": "3.7.13"
  }
 },
 "nbformat": 4,
 "nbformat_minor": 5
}
