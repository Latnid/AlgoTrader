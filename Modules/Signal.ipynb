{
 "cells": [
  {
   "cell_type": "code",
   "execution_count": null,
   "id": "f7fbf7fc-ac41-4390-add1-a595786e28c9",
   "metadata": {},
   "outputs": [],
   "source": [
    "from RTdata import get_data\n",
    "from indicators import add_indicators\n",
    "from Trade import go_long, go_short\n",
    "import time"
   ]
  },
  {
   "cell_type": "code",
   "execution_count": null,
   "id": "ab109154-0894-4fc2-bc67-8ce0661fe889",
   "metadata": {},
   "outputs": [],
   "source": [
    "data_df = get_data('crypto_bar')"
   ]
  },
  {
   "cell_type": "code",
   "execution_count": null,
   "id": "cb4dce6d-f3b1-497a-9044-11d9cac9b7de",
   "metadata": {},
   "outputs": [],
   "source": [
    "data_df.head(2)"
   ]
  },
  {
   "cell_type": "code",
   "execution_count": null,
   "id": "39cac55a-31c6-4584-b745-39f6dd933a89",
   "metadata": {},
   "outputs": [],
   "source": [
    "# Set 'time' index\n",
    "data_index_df = data_df.set_index('time')\n",
    "\n",
    "#Transfer datatype\n",
    "data_index_df[['symbol','type']]= data_index_df[['symbol','type']].astype('str')\n",
    "data_index_df[['close', 'high', 'low', 'open','trade','volume','vwap']] = data_index_df[['close', 'high', 'low', 'open','trade','volume','vwap']].astype('float')\n",
    "data_index_df.dtypes"
   ]
  },
  {
   "cell_type": "code",
   "execution_count": null,
   "id": "8a9e706f-6349-42f5-8171-9e1d8c1ca5a5",
   "metadata": {},
   "outputs": [],
   "source": [
    "# Add indicators.\n",
    "data_indicators_df = add_indicators(data_index_df)\n",
    "data_indicators_df.head(2)"
   ]
  },
  {
   "cell_type": "code",
   "execution_count": null,
   "id": "e443920b-1bc3-478e-8955-2983cf1dce10",
   "metadata": {},
   "outputs": [],
   "source": [
    "data_indicators_df.dtypes"
   ]
  },
  {
   "cell_type": "code",
   "execution_count": null,
   "id": "06b7ea1c-ea1f-4717-b400-85c8caaabe8c",
   "metadata": {},
   "outputs": [],
   "source": [
    "# Create data acquire function:\n",
    "def clean_data():\n",
    "    data_df = get_data('crypto_bar')\n",
    "    # Set 'time' index\n",
    "    data_index_df = data_df.set_index('time')\n",
    "\n",
    "    #Transfer datatype\n",
    "    data_index_df[['symbol','type']]= data_index_df[['symbol','type']].astype('str')\n",
    "    data_index_df[['close', 'high', 'low', 'open','trade','volume','vwap']] = data_index_df[['close', 'high', 'low', 'open','trade','volume','vwap']].astype('float')\n",
    "    # Add indicators.\n",
    "    data_indicators_df = add_indicators(data_index_df)\n",
    "    return data_indicators_df"
   ]
  },
  {
   "cell_type": "code",
   "execution_count": null,
   "id": "f730cd74-cb5f-486e-a4c7-d58dcee47e9a",
   "metadata": {},
   "outputs": [],
   "source": [
    "data_indicators_df = clean_data()\n",
    "data_indicators_df[data_indicators_df['BBL_5_2.0'] >= data_indicators_df['close']]\n",
    "data_indicators_df.head(25)"
   ]
  },
  {
   "cell_type": "code",
   "execution_count": null,
   "id": "89340ae1-a641-4f2e-8cf6-2a93c9c73167",
   "metadata": {},
   "outputs": [],
   "source": [
    "'''\n",
    "1.D％值在70以上时，市场呈现超买现象。D％值在30以下时市场则呈现超卖现象。 \n",
    "2.当Ｋ％线发生倾斜度趋于平缓时，是为警告讯号。 \n",
    "3.当K％值大于D％值，显示目前是向上涨升的趋势，因此在图形上K％向上突破D％线时，即为买进的讯号。 \n",
    "4.当D％值大于Ｋ％值，显示目前的趋势是向下跌落，因此在图形上K％向下跌破D％线，即为卖出讯号。 \n",
    "5.K％线与D％线的交叉，须在80以下，20以下讯号才较为正确。K％与D％线在特性上与强弱指标一样，当Ｋ％值与D％值在70以上，已显示超买的现象，30以下出现超卖的现象。唯强弱指标不能明显的显示买卖时机，而KD线则可以达到此目的。 \n",
    "6.背离讯号产生时，亦为非常正确的买进、卖出时机。 \n",
    "7.发行量太小，交易量太小的股票不适用KD指标；加权指数以及热门大型股准确性极高。 \n",
    "8.KD值在50左右交叉且为盘局时，此指标不能当成明显的买卖讯号。\n",
    "9.J％>100时为超买，J％<10时为超卖，反应较K％及D％为快。KD指标是计算ｎ日内买卖超情况，再加上平均线观念而求出的可设定计算期（即ｎ值），P1、P2、P3值。一般P1，P2都设成3，若P3设成0，表示不画J线。 \n",
    "'''"
   ]
  },
  {
   "cell_type": "code",
   "execution_count": null,
   "id": "97292292-92cf-4a5c-9e64-9b1dabf83698",
   "metadata": {},
   "outputs": [],
   "source": [
    "# Set Condition to excute trade.\n",
    "def trade_condition_check(qty):\n",
    "    while True:\n",
    "        # get clean data.\n",
    "        data_indicators_df = clean_data()\n",
    "        # Go long condition 1 BOLL: close <= BBL\n",
    "        if data_indicators_df['close'][0] <= data_indicators_df['BBL_5_2.0'][4]:\n",
    "            # set current price as low price\n",
    "            low_price_point = data_indicators_df['low']\n",
    "            print(f'Low price point: {low_price_point}')\n",
    "            if data_indicators_df['D_9_3'][15] < 20:\n",
    "                if data_indicators_df['K_9_3'][13] > data_indicators_df['D_9_3'][15]:\n",
    "                    if data_indicators_df['J_9_3'][15] < 10: \n",
    "                        symbol = data_indicators_df['symbol'][0]\n",
    "                        limit_price = data_indicators_df['low'][0]\n",
    "                        take_profit_price = limit_price * 1.01\n",
    "                        stop_loss_price = limit_price * 0.99\n",
    "                        go_long(symbol,qty,limit_price,take_profit_price,stop_loss_price)\n",
    "                        print('Trade placed')\n",
    "                        break\n",
    "        # Go short condition 1 BOLL: close >= BBL\n",
    "        elif data_indicators_df['close'][0] >= data_indicators_df['BBU_5_2.0'][4]:\n",
    "            high_price_point = data_indicators_df['high']\n",
    "            print(f'High price point: {high_price_point}')\n",
    "            # Go Short condition 2 - KDJ \n",
    "            if data_indicators_df['D_9_3'][15] > 80:\n",
    "                if data_indicators_df['K_9_3'][13] < data_indicators_df['D_9_3'][15]:\n",
    "                    if data_indicators_df['J_9_3'][15] > 100:\n",
    "                        # prepare trade detail\n",
    "                        symbol = data_indicators_df['symbol'][0]\n",
    "                        limit_price = data_indicators_df['high'][0]\n",
    "                        take_profit_price = limit_price * 0.99\n",
    "                        stop_loss_price = limit_price * 1.01\n",
    "                        # submit trade\n",
    "                        go_short(symbol,qty,limit_price,take_profit_price,stop_loss_price)\n",
    "                        print('Trade placed')\n",
    "                        break\n",
    "        else:\n",
    "            print(f\"***Monitoring the trade condition***\\n\"\n",
    "                  f\"Ticker: {data_indicators_df['symbol'][0]}\\n\"\n",
    "                  f\"Close: {data_indicators_df['close'][0]}\\n\"\n",
    "                  f\"High: {data_indicators_df['high'][0]}\\n\"\n",
    "                  f\"Low: {data_indicators_df['low'][0]}\\n\"\n",
    "                  f\"BBL: {data_indicators_df['BBL_5_2.0'][4]}\\n\"\n",
    "                  f\"BBU: {data_indicators_df['BBU_5_2.0'][4]}\\n\"\n",
    "                  f\"K: {data_indicators_df['K_9_3'][13]}\\n\"\n",
    "                  f\"D: {data_indicators_df['D_9_3'][15]}\\n\"\n",
    "                  f\"J: {data_indicators_df['K_9_3'][13]}\"\n",
    "                 )\n",
    "\n",
    "            \n",
    "        time.sleep(60)"
   ]
  },
  {
   "cell_type": "code",
   "execution_count": null,
   "id": "ad6aba2c-5723-4d43-b4c9-0ed25b47debc",
   "metadata": {
    "scrolled": true,
    "tags": []
   },
   "outputs": [],
   "source": [
    "trade_condition_check(qty = 1)"
   ]
  },
  {
   "cell_type": "code",
   "execution_count": null,
   "id": "43cabd68-6300-4607-86f0-a5dc9b0ff4be",
   "metadata": {},
   "outputs": [],
   "source": []
  }
 ],
 "metadata": {
  "kernelspec": {
   "display_name": "FinTech",
   "language": "python",
   "name": "fintech"
  },
  "language_info": {
   "codemirror_mode": {
    "name": "ipython",
    "version": 3
   },
   "file_extension": ".py",
   "mimetype": "text/x-python",
   "name": "python",
   "nbconvert_exporter": "python",
   "pygments_lexer": "ipython3",
   "version": "3.7.13"
  }
 },
 "nbformat": 4,
 "nbformat_minor": 5
}
