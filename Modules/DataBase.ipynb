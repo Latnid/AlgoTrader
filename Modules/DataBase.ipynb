{
 "cells": [
  {
   "cell_type": "code",
   "execution_count": 29,
   "id": "4eecb1e5-2c17-4130-b83e-38739f7f0419",
   "metadata": {},
   "outputs": [],
   "source": [
    "import os\n",
    "from dotenv import load_dotenv\n",
    "import psycopg2\n",
    "import datetime"
   ]
  },
  {
   "cell_type": "code",
   "execution_count": 30,
   "id": "8c6cb5eb-860e-4996-a844-c4b841a67bd1",
   "metadata": {},
   "outputs": [],
   "source": [
    "# Load and assign variables.\n",
    "load_dotenv()\n",
    "SQL_DB = os.getenv('SQL_DB')\n",
    "SQL_USER = os.getenv(\"SQL_USER\")\n",
    "SQL_PASSWORD = os.getenv(\"SQL_PASSWORD\")\n",
    "SQL_HOST = os.getenv(\"SQL_HOST\")"
   ]
  },
  {
   "cell_type": "code",
   "execution_count": 46,
   "id": "4b5b4eb6-ea44-4d56-8742-6db752c7911c",
   "metadata": {},
   "outputs": [],
   "source": [
    "con = None"
   ]
  },
  {
   "cell_type": "code",
   "execution_count": 47,
   "id": "141107ff-c378-4d7a-bc11-38d133043cc8",
   "metadata": {},
   "outputs": [],
   "source": [
    "con = psycopg2.connect(database = SQL_DB, user = SQL_USER, password=SQL_PASSWORD, host=SQL_HOST)"
   ]
  },
  {
   "cell_type": "code",
   "execution_count": 48,
   "id": "01187bd3-4459-44a0-9fee-6643df993bdc",
   "metadata": {},
   "outputs": [],
   "source": [
    "cur = con.cursor()\n",
    "cur.execute('SELECT version()')"
   ]
  },
  {
   "cell_type": "code",
   "execution_count": 49,
   "id": "1e5d2f29-797a-44c6-80af-0cb48a0094de",
   "metadata": {},
   "outputs": [],
   "source": [
    "version = cur.fetchone()[0]"
   ]
  },
  {
   "cell_type": "code",
   "execution_count": 50,
   "id": "730b4dfb-ead5-420c-8550-9d0b4b96258d",
   "metadata": {},
   "outputs": [
    {
     "name": "stdout",
     "output_type": "stream",
     "text": [
      "PostgreSQL 14.5 (Homebrew) on aarch64-apple-darwin22.1.0, compiled by Apple clang version 14.0.0 (clang-1400.0.29.202), 64-bit\n"
     ]
    }
   ],
   "source": [
    "print(version)"
   ]
  },
  {
   "cell_type": "code",
   "execution_count": 144,
   "id": "ee573ea2-c0ad-4a76-989b-c3afd226c205",
   "metadata": {},
   "outputs": [],
   "source": [
    "# prepare table_name as today's date\n",
    "table_name = \"data_\" + datetime.date.today().strftime('%Y_%m_%d')\n"
   ]
  },
  {
   "cell_type": "code",
   "execution_count": null,
   "id": "e3a286f6-de78-490b-ad7e-4b8c833c7339",
   "metadata": {},
   "outputs": [],
   "source": [
    "\n",
    "cur.execute(\"CREATE TABLE IF NOT EXISTS %s (symbol TEXT, timestamp TIMESTAMPTZ, open NUMERIC,high NUMERIC,low NUMERIC,close NUMERIC,volume NUMERIC,trade_count INTEGER,vwap NUMERIC);\" %table_name)\n",
    "# \"symbol\": GOOGL\n",
    "# \"timestamp\": 2022-11-08 18:39:00+00:00\n",
    "# \"open\": 88.66\n",
    "# \"high\": 88.72\n",
    "# \"low\": 88.65\n",
    "# \"close\": 88.71\n",
    "# \"volume\": 1310.0\n",
    "# \"trade_count\": 20.0\n",
    "# \"vwap\": 88.678057\n"
   ]
  },
  {
   "cell_type": "code",
   "execution_count": null,
   "id": "ee07527d-13a5-423d-b8e3-43a32e776ef5",
   "metadata": {},
   "outputs": [],
   "source": [
    "con.commit()"
   ]
  },
  {
   "cell_type": "code",
   "execution_count": null,
   "id": "905e5f46-43ad-472a-9664-1aec775b722e",
   "metadata": {},
   "outputs": [],
   "source": [
    "#def insert('GOOGL', '2022-11-08 18:39:00+00:00', 88.66,88.72,88.65,88.71,1310.0,20.0,88.678057):\n",
    "cur.execute(\"INSERT INTO store VALUES('GOOGL', '2022-11-08 18:39:00+00:00', 88.66, 88.72, 88.65, 88.71, 1310.0, 20.0, 88.678057))"
   ]
  },
  {
   "cell_type": "code",
   "execution_count": 43,
   "id": "a756f1b6-ef80-4036-bfcc-116b4c3eb1bf",
   "metadata": {},
   "outputs": [],
   "source": [
    "cur.execute(\"INSERT INTO store (symbol, timestamp, open, high, low, close, volume, trade_count, vwap) VALUES ('GOOGL', '2022-11-08 18:39:00+00:00', 88.66, 88.72, 88.65, 88.71, 1310.0, 20.0, 88.678057)\")"
   ]
  },
  {
   "cell_type": "code",
   "execution_count": 44,
   "id": "99aa5396-d5e5-42d3-ab1a-3dec93f92d79",
   "metadata": {},
   "outputs": [],
   "source": [
    "con.commit()"
   ]
  },
  {
   "cell_type": "code",
   "execution_count": 45,
   "id": "1f035f10-078e-497f-b79a-75c6b8c78c0c",
   "metadata": {},
   "outputs": [
    {
     "name": "stdout",
     "output_type": "stream",
     "text": [
      "[('GOOGL', datetime.datetime(2022, 11, 8, 13, 39, tzinfo=datetime.timezone(datetime.timedelta(days=-1, seconds=68400))), Decimal('88.66'), Decimal('88.72'), Decimal('88.65'), Decimal('88.71'), Decimal('1310.0'), 20, Decimal('88.678057'))]\n"
     ]
    }
   ],
   "source": [
    "cur.execute(\"SELECT * FROM store\")\n",
    "print(cur.fetchall())"
   ]
  },
  {
   "cell_type": "code",
   "execution_count": 40,
   "id": "1a001e0a-a5dd-4d13-95bc-ca68040a4e48",
   "metadata": {},
   "outputs": [],
   "source": [
    "cur.execute(\"DROP TABLE IF EXISTS store\")\n",
    "con.commit()"
   ]
  },
  {
   "cell_type": "code",
   "execution_count": 18,
   "id": "36988305-25a5-4a81-8a8a-1b722016ee8f",
   "metadata": {},
   "outputs": [
    {
     "name": "stdout",
     "output_type": "stream",
     "text": [
      "2022-11-08 13:39:00-05:00\n"
     ]
    }
   ],
   "source": [
    "import time\n",
    "import datetime\n",
    "\n",
    "def convert_to_timestamp(date_time):\n",
    "    time_tuple = time.strptime(date_time, \"%Y-%m-%d %H:%M:%S-05:00\")\n",
    "    timestamp = time.mktime(time_tuple)\n",
    "    return timestamp\n",
    "\n",
    "date_time = str(datetime.datetime(2022, 11, 8, 13, 39, tzinfo=datetime.timezone(datetime.timedelta(days=-1, seconds=68400))))\n",
    "timestamp = convert_to_timestamp(date_time)\n",
    "print(date_time)"
   ]
  },
  {
   "cell_type": "code",
   "execution_count": 26,
   "id": "342f094c-7d8b-41be-abc4-ed5df36fe336",
   "metadata": {},
   "outputs": [
    {
     "data": {
      "text/plain": [
       "1667932740.0"
      ]
     },
     "execution_count": 26,
     "metadata": {},
     "output_type": "execute_result"
    }
   ],
   "source": [
    "time.mktime(time.strptime(str(bar.timestamp), \"%Y-%m-%d %H:%M:%S-05:00\"))"
   ]
  },
  {
   "cell_type": "code",
   "execution_count": 41,
   "id": "bd3ff564-1abc-4e20-8429-18a27e240723",
   "metadata": {},
   "outputs": [
    {
     "name": "stdout",
     "output_type": "stream",
     "text": [
      "PostgreSQL 14.5 (Homebrew) on aarch64-apple-darwin22.1.0, compiled by Apple clang version 14.0.0 (clang-1400.0.29.202), 64-bit\n",
      "PostgreSQL 14.5 (Homebrew) on aarch64-apple-darwin22.1.0, compiled by Apple clang version 14.0.0 (clang-1400.0.29.202), 64-bit\n"
     ]
    }
   ],
   "source": [
    "from ConnectDB import *\n",
    "# Connect DataBase\n",
    "con,cur = connect_data_base()\n",
    "# prepare table_name as today's date\n",
    "table_name = \"cryptodata_\" + datetime.date.today().strftime('%Y_%m_%d')\n",
    "# Create table if not esists.\n",
    "cur.execute(\"CREATE TABLE IF NOT EXISTS %s (symbol TEXT, timestamp TIMESTAMPTZ, open NUMERIC,high NUMERIC,low NUMERIC,close NUMERIC,volume NUMERIC,trade_count INTEGER,vwap NUMERIC);\" %table_name)\n",
    "# excute SQL command\n",
    "con.commit()\n",
    "\n",
    "symbol='ETH/USD'\n",
    "timestamp=datetime.datetime(2022, 11, 9, 23, 10, tzinfo=datetime.timezone.utc) \n",
    "open=1115.1 \n",
    "high=1115.1 \n",
    "low=1107.8 \n",
    "close=1112.6 \n",
    "volume=20.38 \n",
    "trade_count=43.0 \n",
    "vwap=1111.6833366045 \n",
    "\n",
    "#Connect DataBase\n",
    "con,cur = connect_data_base()\n",
    "cur.execute(\"INSERT INTO {} (symbol, timestamp, open, high, low, close, volume, trade_count, vwap) VALUES (%s, %s, %s, %s, %s, %s, %s, %s, %s)\".format(table_name), (symbol, timestamp, open, high, low, close, volume, trade_count,vwap))\n",
    "#  cur.execute(\"INSERT INTO %s (symbol, timestamp, open, high, low, close, volume, trade_count, vwap) VALUES (%s, %s, %s, %s, %s, %s, %s, %s)\" %(table_name, bar.symbol, time.mktime(time.strptime(str(bar.timestamp), \"%Y-%m-%d %H:%M:%S+00:00\")), bar.open, bar.high, bar.low, bar.close, bar.volume, bar.trade_count, bar.vwap))\n",
    "#  cur.execute(\"INSERT INTO {} (symbol, timestamp, open, high, low, close, volume, trade_count, vwap) VALUES ({}, {}, {}, {}, {}, {}, {}, {}, {})\".format(table_name, symbol, time.mktime(time.strptime(str(timestamp), \"%Y-%m-%d %H:%M:%S+00:00\")), open, high, low, close, volume, trade_count,vwap))\n",
    "\n",
    "con.commit()\n",
    "con.close()"
   ]
  },
  {
   "cell_type": "code",
   "execution_count": 44,
   "id": "466bb7bb-b3f3-4466-a2a1-973648da4bdd",
   "metadata": {},
   "outputs": [
    {
     "data": {
      "text/plain": [
       "float"
      ]
     },
     "execution_count": 44,
     "metadata": {},
     "output_type": "execute_result"
    }
   ],
   "source": [
    "type(time.mktime(time.strptime(str(timestamp), \"%Y-%m-%d %H:%M:%S+00:00\")))"
   ]
  },
  {
   "cell_type": "code",
   "execution_count": null,
   "id": "25ca0ce3-8370-4510-b649-8b9ed3f788db",
   "metadata": {},
   "outputs": [],
   "source": [
    "def connect_data_base():\n",
    "    con = psycopg2.connect(database='postgres', user='postgres',password='postgres',host='localhost')\n",
    "    cur = con.cursor()\n",
    "    cur.execute('SELECT version()')\n",
    "    version = cur.fetchone()[0]\n",
    "    print(version)\n",
    "    return con cur\n",
    "symbol='ETH/USD' timestamp=datetime.datetime(2022, 11, 9, 23, 10, tzinfo=datetime.timezone.utc) open=1115.1 high=1115.1 low=1107.8 close=1112.6 volume=20.38 trade_count=43.0 vwap=1111.6833366045    "
   ]
  }
 ],
 "metadata": {
  "kernelspec": {
   "display_name": "FinTech",
   "language": "python",
   "name": "fintech"
  },
  "language_info": {
   "codemirror_mode": {
    "name": "ipython",
    "version": 3
   },
   "file_extension": ".py",
   "mimetype": "text/x-python",
   "name": "python",
   "nbconvert_exporter": "python",
   "pygments_lexer": "ipython3",
   "version": "3.7.13"
  }
 },
 "nbformat": 4,
 "nbformat_minor": 5
}
