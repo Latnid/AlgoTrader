{
 "cells": [
  {
   "cell_type": "code",
   "execution_count": 4,
   "id": "e99c9bfe-f34b-4d45-9d4c-25524e9e43eb",
   "metadata": {},
   "outputs": [],
   "source": [
    "import Trade\n",
    "from ConnectDB import *\n",
    "import datetime\n",
    "import pytz\n",
    "import pandas as pd"
   ]
  },
  {
   "cell_type": "code",
   "execution_count": 168,
   "id": "07280d7d-639c-491c-ae71-ee453d949222",
   "metadata": {},
   "outputs": [
    {
     "name": "stdout",
     "output_type": "stream",
     "text": [
      "Paper API connected\n",
      "Go long order submitted:\n",
      "Order ID: 173b29dc-0871-4db5-b5fa-149505481c74\n",
      "Entry point: 100\n",
      "Take profit point: 120\n",
      "Stop loss point: 79.2\n"
     ]
    }
   ],
   "source": [
    "# example\n",
    "AAL_long_order = Trade.go_long('AAL',100,100,120,80)"
   ]
  },
  {
   "cell_type": "code",
   "execution_count": 169,
   "id": "31b63c3e-8188-4bba-b4c7-9daf43da9323",
   "metadata": {},
   "outputs": [
    {
     "name": "stdout",
     "output_type": "stream",
     "text": [
      "Paper API connected\n"
     ]
    }
   ],
   "source": [
    "# cancel all orders\n",
    "Trade.api_access('paper').cancel_all_orders()"
   ]
  },
  {
   "cell_type": "code",
   "execution_count": 4,
   "id": "9292174f-8589-432c-a5d1-ab4a94f0f41c",
   "metadata": {},
   "outputs": [
    {
     "name": "stdout",
     "output_type": "stream",
     "text": [
      "0\n"
     ]
    }
   ],
   "source": [
    "# Check database connection,if not connected, connect it.\n",
    "try:\n",
    "    con\n",
    "except NameError:\n",
    "    # Connect to database\n",
    "    con,cur = connect_data_base()\n",
    "    print('Initial connection to PostgreSQL DataBase')\n",
    "else:\n",
    "    if con.closed !=0:\n",
    "    # Connect to database\n",
    "        con,cur = connect_data_base()\n",
    "        print('Reconnected to PostgreSQL DataBase')\n",
    "    print(con.closed)\n",
    "        "
   ]
  },
  {
   "cell_type": "code",
   "execution_count": 7,
   "id": "defcfef9-a3a6-4a06-ba44-51d5beec5104",
   "metadata": {},
   "outputs": [
    {
     "name": "stdout",
     "output_type": "stream",
     "text": [
      "DataBase Connected!\n",
      "Version: PostgreSQL 14.5 (Homebrew) on aarch64-apple-darwin22.1.0, compiled by Apple clang version 14.0.0 (clang-1400.0.29.202), 64-bit\n"
     ]
    }
   ],
   "source": [
    "# Connect to database\n",
    "con,cur = connect_data_base()"
   ]
  },
  {
   "cell_type": "code",
   "execution_count": 8,
   "id": "4a946ec6-f2b5-4cda-9b07-ddaace8a6543",
   "metadata": {},
   "outputs": [],
   "source": [
    "# Fuction for acquiring data from database.\n",
    "def get_data(data_type = 'stock_bar'):\n",
    "    # acquire wall street date\n",
    "    def get_wall_street_date():\n",
    "        \"\"\"\n",
    "        return wall street date\n",
    "        \"\"\"\n",
    "        tz = pytz.timezone('America/New_York')\n",
    "        return datetime.datetime.now(tz).strftime('%Y-%m-%d')\n",
    "\n",
    "    # acquire latest data from realtime database (last 60 minites)\n",
    "    wall_street_date = get_wall_street_date()\n",
    "    table_name = \"_\" + wall_street_date.replace('-','_') + f'_{data_type}'\n",
    "    cur.execute(\"SELECT * FROM {} ORDER BY time DESC LIMIT 60\".format(table_name))\n",
    "    data = cur.fetchall()\n",
    "\n",
    "    # Acquire table columns names\n",
    "    cur.execute(\"SELECT * FROM information_schema.columns WHERE table_schema = 'public' AND table_name   = '{}'\".format(table_name))\n",
    "    rows = cur.fetchall()\n",
    "    table_columns = []\n",
    "    for row in rows:\n",
    "        table_columns.append(row[3])\n",
    "\n",
    "\n",
    "    data_df = pd.DataFrame(data,columns= table_columns)\n",
    "    return data_df"
   ]
  },
  {
   "cell_type": "code",
   "execution_count": 9,
   "id": "1526694b-802e-4a56-8c4e-b46f67cc73ca",
   "metadata": {},
   "outputs": [
    {
     "data": {
      "text/html": [
       "<div>\n",
       "<style scoped>\n",
       "    .dataframe tbody tr th:only-of-type {\n",
       "        vertical-align: middle;\n",
       "    }\n",
       "\n",
       "    .dataframe tbody tr th {\n",
       "        vertical-align: top;\n",
       "    }\n",
       "\n",
       "    .dataframe thead th {\n",
       "        text-align: right;\n",
       "    }\n",
       "</style>\n",
       "<table border=\"1\" class=\"dataframe\">\n",
       "  <thead>\n",
       "    <tr style=\"text-align: right;\">\n",
       "      <th></th>\n",
       "      <th>symbol</th>\n",
       "      <th>time</th>\n",
       "      <th>type</th>\n",
       "      <th>close</th>\n",
       "      <th>high</th>\n",
       "      <th>low</th>\n",
       "      <th>open</th>\n",
       "      <th>trade</th>\n",
       "      <th>volume</th>\n",
       "      <th>vwap</th>\n",
       "    </tr>\n",
       "  </thead>\n",
       "  <tbody>\n",
       "    <tr>\n",
       "      <th>0</th>\n",
       "      <td>BTC/USD</td>\n",
       "      <td>2022-11-13 00:03:00-05:00</td>\n",
       "      <td>b</td>\n",
       "      <td>16831.13</td>\n",
       "      <td>16834.18</td>\n",
       "      <td>16825.92</td>\n",
       "      <td>16834.18</td>\n",
       "      <td>26</td>\n",
       "      <td>0.329199</td>\n",
       "      <td>16830.6865059128</td>\n",
       "    </tr>\n",
       "    <tr>\n",
       "      <th>1</th>\n",
       "      <td>BTC/USD</td>\n",
       "      <td>2022-11-13 00:02:00-05:00</td>\n",
       "      <td>b</td>\n",
       "      <td>16830.48</td>\n",
       "      <td>16833.23</td>\n",
       "      <td>16825.12</td>\n",
       "      <td>16827.49</td>\n",
       "      <td>48</td>\n",
       "      <td>1.057035</td>\n",
       "      <td>16826.9901836741</td>\n",
       "    </tr>\n",
       "    <tr>\n",
       "      <th>2</th>\n",
       "      <td>BTC/USD</td>\n",
       "      <td>2022-11-13 00:01:00-05:00</td>\n",
       "      <td>b</td>\n",
       "      <td>16826.72</td>\n",
       "      <td>16833.8</td>\n",
       "      <td>16819.71</td>\n",
       "      <td>16827.08</td>\n",
       "      <td>166</td>\n",
       "      <td>3.869651</td>\n",
       "      <td>16827.9613775118</td>\n",
       "    </tr>\n",
       "    <tr>\n",
       "      <th>3</th>\n",
       "      <td>BTC/USD</td>\n",
       "      <td>2022-11-13 00:00:00-05:00</td>\n",
       "      <td>b</td>\n",
       "      <td>16832.62</td>\n",
       "      <td>16834.53</td>\n",
       "      <td>16827.08</td>\n",
       "      <td>16833.36</td>\n",
       "      <td>25</td>\n",
       "      <td>2.22605</td>\n",
       "      <td>16829.6153131376</td>\n",
       "    </tr>\n",
       "  </tbody>\n",
       "</table>\n",
       "</div>"
      ],
      "text/plain": [
       "    symbol                      time type     close      high       low  \\\n",
       "0  BTC/USD 2022-11-13 00:03:00-05:00    b  16831.13  16834.18  16825.92   \n",
       "1  BTC/USD 2022-11-13 00:02:00-05:00    b  16830.48  16833.23  16825.12   \n",
       "2  BTC/USD 2022-11-13 00:01:00-05:00    b  16826.72   16833.8  16819.71   \n",
       "3  BTC/USD 2022-11-13 00:00:00-05:00    b  16832.62  16834.53  16827.08   \n",
       "\n",
       "       open trade    volume              vwap  \n",
       "0  16834.18    26  0.329199  16830.6865059128  \n",
       "1  16827.49    48  1.057035  16826.9901836741  \n",
       "2  16827.08   166  3.869651  16827.9613775118  \n",
       "3  16833.36    25   2.22605  16829.6153131376  "
      ]
     },
     "execution_count": 9,
     "metadata": {},
     "output_type": "execute_result"
    }
   ],
   "source": [
    "# call the get_data function and show the database.\n",
    "data_df = get_data(data_type = 'crypto_bar')\n",
    "data_df.head()"
   ]
  },
  {
   "cell_type": "code",
   "execution_count": null,
   "id": "d0ea363b-0d7a-4011-b05e-0519d682bb3a",
   "metadata": {},
   "outputs": [],
   "source": []
  }
 ],
 "metadata": {
  "kernelspec": {
   "display_name": "FinTech",
   "language": "python",
   "name": "fintech"
  },
  "language_info": {
   "codemirror_mode": {
    "name": "ipython",
    "version": 3
   },
   "file_extension": ".py",
   "mimetype": "text/x-python",
   "name": "python",
   "nbconvert_exporter": "python",
   "pygments_lexer": "ipython3",
   "version": "3.7.13"
  }
 },
 "nbformat": 4,
 "nbformat_minor": 5
}
