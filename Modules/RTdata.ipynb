{
 "cells": [
  {
   "cell_type": "code",
   "execution_count": 1,
   "id": "e99c9bfe-f34b-4d45-9d4c-25524e9e43eb",
   "metadata": {},
   "outputs": [],
   "source": [
    "import Trade\n",
    "from ConnectDB import *\n",
    "import datetime\n",
    "import pytz\n",
    "import pandas as pd"
   ]
  },
  {
   "cell_type": "code",
   "execution_count": 168,
   "id": "07280d7d-639c-491c-ae71-ee453d949222",
   "metadata": {},
   "outputs": [
    {
     "name": "stdout",
     "output_type": "stream",
     "text": [
      "Paper API connected\n",
      "Go long order submitted:\n",
      "Order ID: 173b29dc-0871-4db5-b5fa-149505481c74\n",
      "Entry point: 100\n",
      "Take profit point: 120\n",
      "Stop loss point: 79.2\n"
     ]
    }
   ],
   "source": [
    "# example\n",
    "AAL_long_order = Trade.go_long('AAL',100,100,120,80)"
   ]
  },
  {
   "cell_type": "code",
   "execution_count": 169,
   "id": "31b63c3e-8188-4bba-b4c7-9daf43da9323",
   "metadata": {},
   "outputs": [
    {
     "name": "stdout",
     "output_type": "stream",
     "text": [
      "Paper API connected\n"
     ]
    }
   ],
   "source": [
    "# cancel all orders\n",
    "Trade.api_access('paper').cancel_all_orders()"
   ]
  },
  {
   "cell_type": "code",
   "execution_count": 2,
   "id": "9292174f-8589-432c-a5d1-ab4a94f0f41c",
   "metadata": {},
   "outputs": [
    {
     "name": "stdout",
     "output_type": "stream",
     "text": [
      "DataBase Connected!\n",
      "Version: PostgreSQL 14.5 (Homebrew) on aarch64-apple-darwin22.1.0, compiled by Apple clang version 14.0.0 (clang-1400.0.29.202), 64-bit\n",
      "Initial connection to PostgreSQL DataBase\n"
     ]
    }
   ],
   "source": [
    "# Check database connection,if not connected, connect it.\n",
    "try:\n",
    "    con\n",
    "except NameError:\n",
    "    # Connect to database\n",
    "    con,cur = connect_data_base()\n",
    "    print('Initial connection to PostgreSQL DataBase')\n",
    "else:\n",
    "    if con.closed !=0:\n",
    "    # Connect to database\n",
    "        con,cur = connect_data_base()\n",
    "        print('Reconnected to PostgreSQL DataBase')\n",
    "    print(con.closed)\n",
    "        "
   ]
  },
  {
   "cell_type": "code",
   "execution_count": 12,
   "id": "defcfef9-a3a6-4a06-ba44-51d5beec5104",
   "metadata": {},
   "outputs": [
    {
     "name": "stdout",
     "output_type": "stream",
     "text": [
      "DataBase Connected!\n",
      "Version: PostgreSQL 14.5 (Homebrew) on aarch64-apple-darwin22.1.0, compiled by Apple clang version 14.0.0 (clang-1400.0.29.202), 64-bit\n"
     ]
    }
   ],
   "source": [
    "# Connect to database\n",
    "con,cur = connect_data_base()"
   ]
  },
  {
   "cell_type": "code",
   "execution_count": 15,
   "id": "4a946ec6-f2b5-4cda-9b07-ddaace8a6543",
   "metadata": {},
   "outputs": [],
   "source": [
    "# Fuction for acquiring data from database.\n",
    "def get_data(data_type = 'stock_bar'):\n",
    "    # acquire wall street date\n",
    "    def get_wall_street_date():\n",
    "        \"\"\"\n",
    "        return wall street date\n",
    "        \"\"\"\n",
    "        tz = pytz.timezone('America/New_York')\n",
    "        return datetime.datetime.now(tz).strftime('%Y-%m-%d')\n",
    "\n",
    "    # acquire latest data from realtime database (last 60 minites)\n",
    "    wall_street_date = get_wall_street_date()\n",
    "    table_name = \"_\" + wall_street_date.replace('-','_') + f'_{data_type}'\n",
    "    cur.execute(\"SELECT * FROM {} ORDER BY time DESC LIMIT 60\".format(table_name))\n",
    "    data = cur.fetchall()\n",
    "\n",
    "    # Acquire table columns names\n",
    "    cur.execute(\"SELECT * FROM information_schema.columns WHERE table_schema = 'public' AND table_name   = '{}'\".format(table_name))\n",
    "    rows = cur.fetchall()\n",
    "    table_columns = []\n",
    "    for row in rows:\n",
    "        table_columns.append(row[3])\n",
    "\n",
    "\n",
    "    data_df = pd.DataFrame(data,columns= table_columns)\n",
    "    return data_df"
   ]
  },
  {
   "cell_type": "code",
   "execution_count": 16,
   "id": "1526694b-802e-4a56-8c4e-b46f67cc73ca",
   "metadata": {},
   "outputs": [
    {
     "data": {
      "text/html": [
       "<div>\n",
       "<style scoped>\n",
       "    .dataframe tbody tr th:only-of-type {\n",
       "        vertical-align: middle;\n",
       "    }\n",
       "\n",
       "    .dataframe tbody tr th {\n",
       "        vertical-align: top;\n",
       "    }\n",
       "\n",
       "    .dataframe thead th {\n",
       "        text-align: right;\n",
       "    }\n",
       "</style>\n",
       "<table border=\"1\" class=\"dataframe\">\n",
       "  <thead>\n",
       "    <tr style=\"text-align: right;\">\n",
       "      <th></th>\n",
       "      <th>symbol</th>\n",
       "      <th>time</th>\n",
       "      <th>type</th>\n",
       "      <th>close</th>\n",
       "      <th>high</th>\n",
       "      <th>low</th>\n",
       "      <th>open</th>\n",
       "      <th>trade</th>\n",
       "      <th>volume</th>\n",
       "      <th>vwap</th>\n",
       "    </tr>\n",
       "  </thead>\n",
       "  <tbody>\n",
       "    <tr>\n",
       "      <th>0</th>\n",
       "      <td>BTC/USD</td>\n",
       "      <td>2022-11-12 22:37:00-05:00</td>\n",
       "      <td>b</td>\n",
       "      <td>16883.69</td>\n",
       "      <td>16883.69</td>\n",
       "      <td>16870.6</td>\n",
       "      <td>16877.58</td>\n",
       "      <td>18</td>\n",
       "      <td>0.674798</td>\n",
       "      <td>16873.4968092525</td>\n",
       "    </tr>\n",
       "    <tr>\n",
       "      <th>1</th>\n",
       "      <td>BTC/USD</td>\n",
       "      <td>2022-11-12 22:36:00-05:00</td>\n",
       "      <td>b</td>\n",
       "      <td>16875.24</td>\n",
       "      <td>16887.49</td>\n",
       "      <td>16868.24</td>\n",
       "      <td>16872.61</td>\n",
       "      <td>57</td>\n",
       "      <td>3.250854</td>\n",
       "      <td>16877.6932017618</td>\n",
       "    </tr>\n",
       "    <tr>\n",
       "      <th>2</th>\n",
       "      <td>BTC/USD</td>\n",
       "      <td>2022-11-12 22:35:00-05:00</td>\n",
       "      <td>b</td>\n",
       "      <td>16869.02</td>\n",
       "      <td>16869.32</td>\n",
       "      <td>16855.5</td>\n",
       "      <td>16860.4</td>\n",
       "      <td>26</td>\n",
       "      <td>1.396087</td>\n",
       "      <td>16856.7092792283</td>\n",
       "    </tr>\n",
       "    <tr>\n",
       "      <th>3</th>\n",
       "      <td>BTC/USD</td>\n",
       "      <td>2022-11-12 22:34:00-05:00</td>\n",
       "      <td>b</td>\n",
       "      <td>16860.41</td>\n",
       "      <td>16867.21</td>\n",
       "      <td>16855.51</td>\n",
       "      <td>16857.48</td>\n",
       "      <td>72</td>\n",
       "      <td>1.967726</td>\n",
       "      <td>16861.0785133499</td>\n",
       "    </tr>\n",
       "    <tr>\n",
       "      <th>4</th>\n",
       "      <td>BTC/USD</td>\n",
       "      <td>2022-11-12 22:33:00-05:00</td>\n",
       "      <td>b</td>\n",
       "      <td>16857.48</td>\n",
       "      <td>16860.82</td>\n",
       "      <td>16850</td>\n",
       "      <td>16850</td>\n",
       "      <td>62</td>\n",
       "      <td>0.581412</td>\n",
       "      <td>16858.0173809278</td>\n",
       "    </tr>\n",
       "  </tbody>\n",
       "</table>\n",
       "</div>"
      ],
      "text/plain": [
       "    symbol                      time type     close      high       low  \\\n",
       "0  BTC/USD 2022-11-12 22:37:00-05:00    b  16883.69  16883.69   16870.6   \n",
       "1  BTC/USD 2022-11-12 22:36:00-05:00    b  16875.24  16887.49  16868.24   \n",
       "2  BTC/USD 2022-11-12 22:35:00-05:00    b  16869.02  16869.32   16855.5   \n",
       "3  BTC/USD 2022-11-12 22:34:00-05:00    b  16860.41  16867.21  16855.51   \n",
       "4  BTC/USD 2022-11-12 22:33:00-05:00    b  16857.48  16860.82     16850   \n",
       "\n",
       "       open trade    volume              vwap  \n",
       "0  16877.58    18  0.674798  16873.4968092525  \n",
       "1  16872.61    57  3.250854  16877.6932017618  \n",
       "2   16860.4    26  1.396087  16856.7092792283  \n",
       "3  16857.48    72  1.967726  16861.0785133499  \n",
       "4     16850    62  0.581412  16858.0173809278  "
      ]
     },
     "execution_count": 16,
     "metadata": {},
     "output_type": "execute_result"
    }
   ],
   "source": [
    "# call the get_data function and show the database.\n",
    "data_df = get_data(data_type = 'crypto_bar')\n",
    "data_df.head()"
   ]
  },
  {
   "cell_type": "code",
   "execution_count": null,
   "id": "d0ea363b-0d7a-4011-b05e-0519d682bb3a",
   "metadata": {},
   "outputs": [],
   "source": []
  }
 ],
 "metadata": {
  "kernelspec": {
   "display_name": "FinTech",
   "language": "python",
   "name": "fintech"
  },
  "language_info": {
   "codemirror_mode": {
    "name": "ipython",
    "version": 3
   },
   "file_extension": ".py",
   "mimetype": "text/x-python",
   "name": "python",
   "nbconvert_exporter": "python",
   "pygments_lexer": "ipython3",
   "version": "3.7.13"
  }
 },
 "nbformat": 4,
 "nbformat_minor": 5
}
