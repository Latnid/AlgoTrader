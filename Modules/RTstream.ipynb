{
 "cells": [
  {
   "cell_type": "code",
   "execution_count": 1,
   "id": "4406c3b2-7ead-4b06-84a6-84cbf2363960",
   "metadata": {},
   "outputs": [],
   "source": [
    "from alpaca.data.live import CryptoDataStream, StockDataStream\n",
    "import Authorization\n",
    "import asyncio"
   ]
  },
  {
   "cell_type": "code",
   "execution_count": 2,
   "id": "d7722770-2891-4f49-af3e-b2bb209ff1bb",
   "metadata": {},
   "outputs": [],
   "source": [
    "# Asign Key and secret value\n",
    "API_KEY = Authorization.ALPACA_API_KEY\n",
    "SECRET_KEY = Authorization.ALPACA_SECRET_KEY\n",
    "# Initiate class\n",
    "crypto_stream = CryptoDataStream(API_KEY, SECRET_KEY)\n",
    "Stock_stream = StockDataStream(API_KEY, SECRET_KEY)"
   ]
  },
  {
   "cell_type": "code",
   "execution_count": null,
   "id": "86a4f816-f019-44c9-9893-7960d10176b8",
   "metadata": {},
   "outputs": [],
   "source": [
    "# define callback function to print the bar upon reciving.\n",
    "async def bar_callback(bar):\n",
    "    for property_name, value in bar:\n",
    "        print(f\"\\\"{property_name}\\\": {value}\")\n",
    "        \n",
    "# Subscribing to bar event \n",
    "symbol = \"BTC/USD\"\n",
    "crypto_stream.subscribe_bars(bar_callback, symbol)\n",
    "crypto_stream.run()"
   ]
  },
  {
   "cell_type": "code",
   "execution_count": 4,
   "id": "18e8ba92-9ed7-49f9-b9a2-be4882daa755",
   "metadata": {},
   "outputs": [],
   "source": [
    "from alpaca.data.live import StockDataStream"
   ]
  },
  {
   "cell_type": "code",
   "execution_count": 5,
   "id": "03ae0961-36d3-4bf5-8f1b-b0f50aeb0292",
   "metadata": {},
   "outputs": [],
   "source": [
    "stock_stream = StockDataStream(API_KEY, SECRET_KEY)"
   ]
  },
  {
   "cell_type": "code",
   "execution_count": null,
   "id": "8ef41d8f-a40c-48df-b897-896e67ec57f4",
   "metadata": {},
   "outputs": [],
   "source": [
    "# async handler\n",
    "async def quote_data_handler(data: any):\n",
    "    # quote data will arrive here\n",
    "    print(data)\n",
    "    \n",
    "symbols = 'TSLA'\n",
    "stock_stream.subscribe_quotes(quote_data_handler,symbols)\n",
    "\n",
    "stock_stream.run()"
   ]
  },
  {
   "cell_type": "code",
   "execution_count": null,
   "id": "5cb6c651-4872-4a96-ab00-34c9b9055147",
   "metadata": {
    "scrolled": true,
    "tags": []
   },
   "outputs": [],
   "source": [
    "# Stock RealTime Data using websocket.\n",
    "from websocket import create_connection\n",
    "import simplejson as json\n",
    "import pprint\n",
    "\n",
    "url = 'wss://stream.data.alpaca.markets/v2/iex'\n",
    "ws = create_connection(url)\n",
    "print(json.loads(ws.recv())) #print the connection message\n",
    "\n",
    "auth_message = {\"action\": \"auth\", \"key\": API_KEY, \"secret\": SECRET_KEY}\n",
    "ws.send(json.dumps(auth_message))\n",
    "print(json.loads(ws.recv())) # print the authenticated message\n",
    "\n",
    "subscription = {\"action\":\"subscribe\",\"trades\":[\"AAPL\"],\"quotes\":[\"AMD\",\"CLDR\"],\"bars\":[\"AAPL\",\"VOO\"]}\n",
    "ws.send(json.dumps(subscription))\n",
    "print(json.loads(ws.recv())) # print the subscribed message\n",
    "\n",
    "while True:\n",
    "    data = json.loads(ws.recv())\n",
    "    pprint.pprint(data[0])\n",
    "    print('*********************')"
   ]
  },
  {
   "cell_type": "code",
   "execution_count": null,
   "id": "393b4e8e-c086-4b87-9cc5-fa9fc0298283",
   "metadata": {
    "tags": []
   },
   "outputs": [],
   "source": [
    "# Crypto RealTime Data using websocket.\n",
    "import Authorization\n",
    "from ConnectDB import *\n",
    "from websocket import create_connection\n",
    "import simplejson as json\n",
    "import pprint\n",
    "\n",
    "# Asign Key and secret value\n",
    "API_KEY = Authorization.ALPACA_API_KEY\n",
    "SECRET_KEY = Authorization.ALPACA_SECRET_KEY\n",
    "\n",
    "# Connect DataBase\n",
    "con,cur = connect_data_base()\n",
    "# prepare table_name as today's date\n",
    "quote_table_name = \"crypto_quote_\" + datetime.date.today().strftime('%Y_%m_%d')\n",
    "trade_table_name = \"crypto_trade_\" + datetime.date.today().strftime('%Y_%m_%d')\n",
    "bar_table_name = \"crypto_bar_\" + datetime.date.today().strftime('%Y_%m_%d')\n",
    "# Create table if not esists,\n",
    "cur.execute(\n",
    "    \"CREATE TABLE IF NOT EXISTS %s (symbol TEXT, time TIMESTAMPTZ, type TEXT, ask NUMERIC,\\\n",
    "    ask_size NUMERIC, bid NUMERIC, bid_size NUMERIC);\" %quote_table_name)\n",
    "cur.execute(\n",
    "    \"CREATE TABLE IF NOT EXISTS %s (symbol TEXT, time TIMESTAMPTZ, type TEXT, id NUMERIC,\\\n",
    "    price NUMERIC, size NUMERIC, side TEXT);\" %trade_table_name)\n",
    "cur.execute(\n",
    "    \"CREATE TABLE IF NOT EXISTS %s (symbol TEXT, time TIMESTAMPTZ, type TEXT, close NUMERIC,\\\n",
    "     high NUMERIC, low NUMERIC,open NUMERIC, trade NUMERIC, volume NUMERIC, vwap NUMERIC);\" %bar_table_name)\n",
    "# excute SQL command\n",
    "con.commit()\n",
    "\n",
    "url = 'wss://stream.data.alpaca.markets/v1beta2/crypto'\n",
    "ws = create_connection(url)\n",
    "print(json.loads(ws.recv())) #print the connection message\n",
    "\n",
    "auth_message = {\"action\": \"auth\", \"key\": API_KEY, \"secret\": SECRET_KEY}\n",
    "ws.send(json.dumps(auth_message))\n",
    "print(json.loads(ws.recv())) # print the authenticated message\n",
    "\n",
    "subscription = {\"action\":\"subscribe\",\"trades\":[\"BTC/USD\"],\"quotes\":[\"BTC/USD\"],\"bars\":[\"AM.BCH/USD\"]}\n",
    "ws.send(json.dumps(subscription))\n",
    "print(json.loads(ws.recv())) # print the subscribed message\n",
    "\n",
    "while True:\n",
    "    # Receive and print data.\n",
    "    data = json.loads(ws.recv())\n",
    "    pprint.pprint(data[0])\n",
    "    print('*********************')\n",
    "    \n",
    "    # Data organized.\n",
    "    if data[0]['T'] == 'q':        \n",
    "        Symbol = data[0]['S']\n",
    "        Type = data[0]['T']\n",
    "        Ask = data[0]['ap']\n",
    "        Ask_size = data[0]['as']\n",
    "        Bid = data[0]['bp']\n",
    "        Bid_size = data[0]['bs']\n",
    "        Time = data[0]['t']\n",
    "        cur.execute(\"INSERT INTO {} (symbol, Time, Type, Ask, Ask_size, Bid, Bid_size) VALUES (%s, %s, %s, %s, %s, %s, %s)\".format(quote_table_name),\n",
    "        (Symbol, Time, Type, Ask, Ask_size, Bid, Bid_size))\n",
    "        # excute query\n",
    "        con.commit()\n",
    "    \n",
    "    elif data[0]['T'] == 't':\n",
    "        Symbol = data[0]['S']\n",
    "        Type = data[0]['T']\n",
    "        Trade_id = data[0]['i']\n",
    "        Trade_price = data[0]['p']\n",
    "        Trade_size = data[0]['s']\n",
    "        Taker_side  = data[0]['tks']\n",
    "        Time = data[0]['t']\n",
    "        # Insert all data to database and excute.  \n",
    "        cur.execute(\"INSERT INTO {} (symbol, time, type, id, price, size, side) VALUES (%s, %s, %s, %s, %s, %s, %s)\".format(trade_table_name),\n",
    "        (Symbol, Time, Type, Trade_id, Trade_price, Trade_size, Taker_side))\n",
    "        con.commit()\n",
    "        \n",
    "    elif data[0]['T'] == 'b':\n",
    "        Symbol = data[0]['S']\n",
    "        Type = data[0]['T']\n",
    "        Close_price = data[0]['c']\n",
    "        High_price = data[0]['h']\n",
    "        Low_price = data[0]['l']\n",
    "        Trade_count  = data[0]['n']\n",
    "        Open_price = data[0]['o']\n",
    "        Time = data[0]['t']\n",
    "        Volume = data[0]['v']\n",
    "        Vwap = data[0]['vw']\n",
    "        # Insert all data to database and excute.  \n",
    "        cur.execute(\"INSERT INTO {} (symbol, time, type, close, high, low, open, trade, volume, vwap) VALUES (%s, %s, %s, %s, %s, %s, %s, %s, %s, %s)\".format(bar_table_name),\n",
    "        (Symbol, Time, Type, Close_price, High_price, Low_price, Open_price, Trade_count, Volume, Vwap))\n",
    "        con.commit()        \n",
    "        \n"
   ]
  },
  {
   "cell_type": "code",
   "execution_count": 8,
   "id": "aa8cfa4c-855a-4b1a-a640-754787316188",
   "metadata": {},
   "outputs": [],
   "source": [
    "import pandas as pd\n",
    "import datetime\n",
    "Time = '2022-11-12T01:17:10Z'"
   ]
  },
  {
   "cell_type": "code",
   "execution_count": 9,
   "id": "0588fc84-6a30-445d-b50e-9090f98d7015",
   "metadata": {},
   "outputs": [],
   "source": [
    "NewYork_Time = pd.Timestamp(Time, tz=\"America/New_York\").isoformat()"
   ]
  },
  {
   "cell_type": "code",
   "execution_count": 13,
   "id": "3c37a823-66a1-466f-a8af-f41d65af4d5e",
   "metadata": {},
   "outputs": [
    {
     "data": {
      "text/plain": [
       "'2022_11_11'"
      ]
     },
     "execution_count": 13,
     "metadata": {},
     "output_type": "execute_result"
    }
   ],
   "source": [
    "NewYork_Time.split('T')[0].replace('-', '_')"
   ]
  },
  {
   "cell_type": "code",
   "execution_count": null,
   "id": "7b965d70-de11-4c9f-8a35-4ebe1f8ddab3",
   "metadata": {},
   "outputs": [],
   "source": []
  }
 ],
 "metadata": {
  "kernelspec": {
   "display_name": "FinTech",
   "language": "python",
   "name": "fintech"
  },
  "language_info": {
   "codemirror_mode": {
    "name": "ipython",
    "version": 3
   },
   "file_extension": ".py",
   "mimetype": "text/x-python",
   "name": "python",
   "nbconvert_exporter": "python",
   "pygments_lexer": "ipython3",
   "version": "3.7.13"
  }
 },
 "nbformat": 4,
 "nbformat_minor": 5
}
