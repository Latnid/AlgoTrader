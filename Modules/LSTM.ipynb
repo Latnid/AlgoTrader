{
 "cells": [
  {
   "cell_type": "code",
   "execution_count": 1,
   "metadata": {
    "id": "bimidyKxSQPq"
   },
   "outputs": [],
   "source": [
    "import pandas_datareader.data as web\n",
    "import datetime\n",
    "start = datetime.datetime(2000,1,1)\n",
    "end = datetime.datetime(2022,11,4)\n",
    "df = web.DataReader('GOOGL','stooq',start,end)"
   ]
  },
  {
   "cell_type": "code",
   "execution_count": 2,
   "metadata": {
    "colab": {
     "base_uri": "https://localhost:8080/",
     "height": 455
    },
    "id": "9c6rqlSqTN_5",
    "outputId": "511e8afa-95c2-4318-b3f2-be345878f9c5"
   },
   "outputs": [
    {
     "data": {
      "text/html": [
       "<div>\n",
       "<style scoped>\n",
       "    .dataframe tbody tr th:only-of-type {\n",
       "        vertical-align: middle;\n",
       "    }\n",
       "\n",
       "    .dataframe tbody tr th {\n",
       "        vertical-align: top;\n",
       "    }\n",
       "\n",
       "    .dataframe thead th {\n",
       "        text-align: right;\n",
       "    }\n",
       "</style>\n",
       "<table border=\"1\" class=\"dataframe\">\n",
       "  <thead>\n",
       "    <tr style=\"text-align: right;\">\n",
       "      <th></th>\n",
       "      <th>Open</th>\n",
       "      <th>High</th>\n",
       "      <th>Low</th>\n",
       "      <th>Close</th>\n",
       "      <th>Volume</th>\n",
       "    </tr>\n",
       "    <tr>\n",
       "      <th>Date</th>\n",
       "      <th></th>\n",
       "      <th></th>\n",
       "      <th></th>\n",
       "      <th></th>\n",
       "      <th></th>\n",
       "    </tr>\n",
       "  </thead>\n",
       "  <tbody>\n",
       "    <tr>\n",
       "      <th>2022-11-04</th>\n",
       "      <td>85.40000</td>\n",
       "      <td>86.6400</td>\n",
       "      <td>83.71000</td>\n",
       "      <td>86.58000</td>\n",
       "      <td>51124904.0</td>\n",
       "    </tr>\n",
       "    <tr>\n",
       "      <th>2022-11-03</th>\n",
       "      <td>86.32000</td>\n",
       "      <td>86.5200</td>\n",
       "      <td>83.34000</td>\n",
       "      <td>83.43000</td>\n",
       "      <td>61288019.0</td>\n",
       "    </tr>\n",
       "    <tr>\n",
       "      <th>2022-11-02</th>\n",
       "      <td>90.94000</td>\n",
       "      <td>91.1800</td>\n",
       "      <td>86.88000</td>\n",
       "      <td>86.97000</td>\n",
       "      <td>57038282.0</td>\n",
       "    </tr>\n",
       "    <tr>\n",
       "      <th>2022-11-01</th>\n",
       "      <td>95.45000</td>\n",
       "      <td>96.0300</td>\n",
       "      <td>90.37000</td>\n",
       "      <td>90.47000</td>\n",
       "      <td>47161351.0</td>\n",
       "    </tr>\n",
       "    <tr>\n",
       "      <th>2022-10-31</th>\n",
       "      <td>95.42000</td>\n",
       "      <td>96.0300</td>\n",
       "      <td>93.98000</td>\n",
       "      <td>94.51000</td>\n",
       "      <td>31675036.0</td>\n",
       "    </tr>\n",
       "    <tr>\n",
       "      <th>...</th>\n",
       "      <td>...</td>\n",
       "      <td>...</td>\n",
       "      <td>...</td>\n",
       "      <td>...</td>\n",
       "      <td>...</td>\n",
       "    </tr>\n",
       "    <tr>\n",
       "      <th>2004-08-25</th>\n",
       "      <td>2.62400</td>\n",
       "      <td>2.7000</td>\n",
       "      <td>2.59700</td>\n",
       "      <td>2.65000</td>\n",
       "      <td>183956000.0</td>\n",
       "    </tr>\n",
       "    <tr>\n",
       "      <th>2004-08-24</th>\n",
       "      <td>2.78100</td>\n",
       "      <td>2.7900</td>\n",
       "      <td>2.58925</td>\n",
       "      <td>2.62175</td>\n",
       "      <td>305252000.0</td>\n",
       "    </tr>\n",
       "    <tr>\n",
       "      <th>2004-08-23</th>\n",
       "      <td>2.76875</td>\n",
       "      <td>2.8370</td>\n",
       "      <td>2.72625</td>\n",
       "      <td>2.73500</td>\n",
       "      <td>365488000.0</td>\n",
       "    </tr>\n",
       "    <tr>\n",
       "      <th>2004-08-20</th>\n",
       "      <td>2.52525</td>\n",
       "      <td>2.7270</td>\n",
       "      <td>2.51250</td>\n",
       "      <td>2.70775</td>\n",
       "      <td>457144000.0</td>\n",
       "    </tr>\n",
       "    <tr>\n",
       "      <th>2004-08-19</th>\n",
       "      <td>2.50000</td>\n",
       "      <td>2.6015</td>\n",
       "      <td>2.39900</td>\n",
       "      <td>2.50850</td>\n",
       "      <td>894076000.0</td>\n",
       "    </tr>\n",
       "  </tbody>\n",
       "</table>\n",
       "<p>4587 rows × 5 columns</p>\n",
       "</div>"
      ],
      "text/plain": [
       "                Open     High       Low     Close       Volume\n",
       "Date                                                          \n",
       "2022-11-04  85.40000  86.6400  83.71000  86.58000   51124904.0\n",
       "2022-11-03  86.32000  86.5200  83.34000  83.43000   61288019.0\n",
       "2022-11-02  90.94000  91.1800  86.88000  86.97000   57038282.0\n",
       "2022-11-01  95.45000  96.0300  90.37000  90.47000   47161351.0\n",
       "2022-10-31  95.42000  96.0300  93.98000  94.51000   31675036.0\n",
       "...              ...      ...       ...       ...          ...\n",
       "2004-08-25   2.62400   2.7000   2.59700   2.65000  183956000.0\n",
       "2004-08-24   2.78100   2.7900   2.58925   2.62175  305252000.0\n",
       "2004-08-23   2.76875   2.8370   2.72625   2.73500  365488000.0\n",
       "2004-08-20   2.52525   2.7270   2.51250   2.70775  457144000.0\n",
       "2004-08-19   2.50000   2.6015   2.39900   2.50850  894076000.0\n",
       "\n",
       "[4587 rows x 5 columns]"
      ]
     },
     "execution_count": 2,
     "metadata": {},
     "output_type": "execute_result"
    }
   ],
   "source": [
    "df"
   ]
  },
  {
   "cell_type": "code",
   "execution_count": 3,
   "metadata": {
    "id": "qL26Vbq4TVF0"
   },
   "outputs": [],
   "source": [
    "def Stock_Price_LSTM_Data_Precesing(df,mem_his_days, pre_days):\n",
    "    df.dropna(inplace = True)\n",
    "    df.sort_index(inplace = True)\n",
    "    \n",
    "    df['label'] = df['Close'].shift(-pre_days)\n",
    "    \n",
    "    from sklearn.preprocessing import StandardScaler\n",
    "    scaler = StandardScaler()\n",
    "    sca_X = scaler.fit_transform(df.iloc[:,:-1])\n",
    "    \n",
    "    from collections import deque\n",
    "    deq = deque(maxlen = mem_his_days)\n",
    "    \n",
    "    X = []\n",
    "    for i in sca_X:\n",
    "        deq.append(list(i))\n",
    "        if len(deq) == mem_his_days:\n",
    "            X.append(list(deq))\n",
    "    \n",
    "    X_lately = X[-pre_days:]\n",
    "    X = X[:-pre_days]\n",
    "    \n",
    "    y = df['label'].values[mem_his_days-1:-pre_days]\n",
    "    \n",
    "    import numpy as np\n",
    "    X = np.array(X)\n",
    "    y = np.array(y)\n",
    "    return X,y,X_lately"
   ]
  },
  {
   "cell_type": "code",
   "execution_count": 4,
   "metadata": {
    "id": "r3IV8V5LTWRl"
   },
   "outputs": [],
   "source": [
    "X,y,X_lately = Stock_Price_LSTM_Data_Precesing(df,5,10) "
   ]
  },
  {
   "cell_type": "code",
   "execution_count": 5,
   "metadata": {
    "colab": {
     "base_uri": "https://localhost:8080/"
    },
    "id": "jJwsLsToTdPh",
    "outputId": "01c54e45-d4af-4cfc-c8c6-7562a513493f"
   },
   "outputs": [
    {
     "name": "stdout",
     "output_type": "stream",
     "text": [
      "4572\n",
      "4572\n",
      "10\n"
     ]
    }
   ],
   "source": [
    "print(len(X))\n",
    "print(len(y))\n",
    "print(len(X_lately))"
   ]
  },
  {
   "cell_type": "code",
   "execution_count": 6,
   "metadata": {
    "colab": {
     "base_uri": "https://localhost:8080/"
    },
    "id": "KD4cLGEuTfiI",
    "outputId": "fb58aad2-68d4-4ce6-ecbc-6dc70e7c5ac0"
   },
   "outputs": [
    {
     "ename": "ModuleNotFoundError",
     "evalue": "No module named 'tensorflow'",
     "output_type": "error",
     "traceback": [
      "\u001b[0;31m---------------------------------------------------------------------------\u001b[0m",
      "\u001b[0;31mModuleNotFoundError\u001b[0m                       Traceback (most recent call last)",
      "\u001b[0;32m/var/folders/_f/j_14t_bj18vf6gn7f7zgmbkw0000gn/T/ipykernel_1000/3158414914.py\u001b[0m in \u001b[0;36m<module>\u001b[0;34m\u001b[0m\n\u001b[1;32m      9\u001b[0m \u001b[0mdense_layers\u001b[0m \u001b[0;34m=\u001b[0m \u001b[0;34m[\u001b[0m\u001b[0;36m1\u001b[0m\u001b[0;34m]\u001b[0m\u001b[0;34m\u001b[0m\u001b[0;34m\u001b[0m\u001b[0m\n\u001b[1;32m     10\u001b[0m \u001b[0munits\u001b[0m \u001b[0;34m=\u001b[0m \u001b[0;34m[\u001b[0m\u001b[0;36m32\u001b[0m\u001b[0;34m]\u001b[0m\u001b[0;34m\u001b[0m\u001b[0;34m\u001b[0m\u001b[0m\n\u001b[0;32m---> 11\u001b[0;31m \u001b[0;32mfrom\u001b[0m \u001b[0mtensorflow\u001b[0m\u001b[0;34m.\u001b[0m\u001b[0mkeras\u001b[0m\u001b[0;34m.\u001b[0m\u001b[0mcallbacks\u001b[0m \u001b[0;32mimport\u001b[0m \u001b[0mModelCheckpoint\u001b[0m\u001b[0;34m\u001b[0m\u001b[0;34m\u001b[0m\u001b[0m\n\u001b[0m\u001b[1;32m     12\u001b[0m \u001b[0;32mfor\u001b[0m \u001b[0mthe_mem_days\u001b[0m \u001b[0;32min\u001b[0m \u001b[0mmem_days\u001b[0m\u001b[0;34m:\u001b[0m\u001b[0;34m\u001b[0m\u001b[0;34m\u001b[0m\u001b[0m\n\u001b[1;32m     13\u001b[0m     \u001b[0;32mfor\u001b[0m \u001b[0mthe_lstm_layers\u001b[0m \u001b[0;32min\u001b[0m \u001b[0mlstm_layers\u001b[0m\u001b[0;34m:\u001b[0m\u001b[0;34m\u001b[0m\u001b[0;34m\u001b[0m\u001b[0m\n",
      "\u001b[0;31mModuleNotFoundError\u001b[0m: No module named 'tensorflow'"
     ]
    }
   ],
   "source": [
    "pre_days = 10\n",
    "# mem_days = [5,10,15]\n",
    "# lstm_layers = [1,2,3]\n",
    "# dense = layers = [1,2,3]\n",
    "# units = [16,32]\n",
    "\n",
    "mem_days = [5]\n",
    "lstm_layers = [1]\n",
    "dense_layers = [1]\n",
    "units = [32]\n",
    "from tensorflow.keras.callbacks import ModelCheckpoint\n",
    "for the_mem_days in mem_days:\n",
    "    for the_lstm_layers in lstm_layers:\n",
    "        for the_dense_layers in dense_layers:\n",
    "            for the_units in units:\n",
    "                filepath = './lstm_models/{val_mape: .2f}_{epoch:-2d}_'+f'mem_{the_mem_days}_flstm_{the_lstm_layers}'\n",
    "                checkpoint = ModelCheckpoint(\n",
    "                    filepath = filepath,\n",
    "                    save_weights_only = False,\n",
    "                    monitor = 'val_mape',\n",
    "                    mode = 'min',\n",
    "                    save_best_only = True)\n",
    "                \n",
    "                X,y,X_lately = Stock_Price_LSTM_Data_Precesing(df,the_mem_days,pre_days)\n",
    "                from sklearn.model_selection import train_test_split\n",
    "                X_train, X_test, y_train, y_test = train_test_split(X,y,shuffle = False,test_size=0.1)\n",
    "                \n",
    "                import tensorflow as tf\n",
    "                from tensorflow.keras.models import Sequential\n",
    "                from tensorflow.keras.layers import LSTM, Dense, Dropout\n",
    "                model = Sequential()\n",
    "                model.add(LSTM(the_units,input_shape =X.shape[1:],activation = 'relu', return_sequences = True))\n",
    "                model.add(Dropout(0.1))\n",
    "                \n",
    "                for i in range(the_lstm_layers):\n",
    "                    model.add(LSTM(the_units, activation= 'relu'))\n",
    "                    model.add(Dropout(0.1))\n",
    "                    \n",
    "                for i in range(the_dense_layers):\n",
    "                    model.add(Dense(the_units, activation = 'relu'))\n",
    "                    model.add(Dropout(0.1))\n",
    "                    \n",
    "                model.add(Dense(1))\n",
    "                \n",
    "                model.compile(optimizer = 'adam', loss = 'mse', metrics = ['mape'])\n",
    "                \n",
    "                model.fit(X_train, y_train, batch_size = 32, epochs = 500,validation_data = (X_test, y_test),callbacks = checkpoint)"
   ]
  },
  {
   "cell_type": "code",
   "execution_count": null,
   "metadata": {
    "id": "Rt9ypp5_WjUq"
   },
   "outputs": [],
   "source": [
    "from tensorflow.keras.models import load_model\n",
    "best_model = load_model('./lstm_models/ 4.45_111_mem_5_flstm_1')"
   ]
  },
  {
   "cell_type": "code",
   "execution_count": null,
   "metadata": {
    "colab": {
     "base_uri": "https://localhost:8080/"
    },
    "id": "4GpRMswZWktm",
    "outputId": "1b70dec0-0d49-4710-9f38-81fc3ec40be5"
   },
   "outputs": [],
   "source": [
    "best_model.evaluate(X_test,y_test)\n",
    "pre = best_model.predict(X_test)\n",
    "print(len(pre))"
   ]
  },
  {
   "cell_type": "code",
   "execution_count": null,
   "metadata": {
    "colab": {
     "base_uri": "https://localhost:8080/"
    },
    "id": "9F5X9ytIWmWY",
    "outputId": "2df164ca-493a-46ff-e665-479e2393ce6c"
   },
   "outputs": [],
   "source": [
    "model.evaluate(X_test, y_test)"
   ]
  },
  {
   "cell_type": "code",
   "execution_count": null,
   "metadata": {
    "colab": {
     "base_uri": "https://localhost:8080/",
     "height": 265
    },
    "id": "Ay47XRsdWold",
    "outputId": "f3070119-ea3c-4177-82dc-da4b053f1ed1"
   },
   "outputs": [],
   "source": [
    "import matplotlib.pyplot as plt\n",
    "df_time = df.index[-len(y_test):]\n",
    "plt.plot(df_time, y_test, color = 'red', label= 'price')\n",
    "plt.plot(df_time, pre, color = 'green', label = 'predict')\n",
    "plt.show()"
   ]
  }
 ],
 "metadata": {
  "colab": {
   "provenance": []
  },
  "kernelspec": {
   "display_name": "FinTech",
   "language": "python",
   "name": "fintech"
  },
  "language_info": {
   "codemirror_mode": {
    "name": "ipython",
    "version": 3
   },
   "file_extension": ".py",
   "mimetype": "text/x-python",
   "name": "python",
   "nbconvert_exporter": "python",
   "pygments_lexer": "ipython3",
   "version": "3.7.13"
  }
 },
 "nbformat": 4,
 "nbformat_minor": 4
}
