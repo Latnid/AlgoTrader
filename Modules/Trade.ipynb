{
 "cells": [
  {
   "cell_type": "code",
   "execution_count": 2,
   "id": "1c6ae884-2728-4349-a294-0817678882b1",
   "metadata": {},
   "outputs": [],
   "source": [
    "#import require libraries\n",
    "from Authorization import api_access"
   ]
  },
  {
   "cell_type": "code",
   "execution_count": 3,
   "id": "e4422a3f-2a95-41f2-8922-f5fc9d7b867b",
   "metadata": {},
   "outputs": [
    {
     "name": "stdout",
     "output_type": "stream",
     "text": [
      "Paper API connected\n"
     ]
    }
   ],
   "source": [
    "API = api_access('paper')"
   ]
  },
  {
   "cell_type": "code",
   "execution_count": 6,
   "id": "87c3aa44-4505-49c8-8358-2c5f7ea457f6",
   "metadata": {},
   "outputs": [
    {
     "data": {
      "text/plain": [
       "Account({   'account_blocked': False,\n",
       "    'account_number': 'PA33YSXHSXRI',\n",
       "    'accrued_fees': '0',\n",
       "    'balance_asof': '2022-11-04',\n",
       "    'bod_dtbp': '0',\n",
       "    'buying_power': '200000',\n",
       "    'cash': '100000',\n",
       "    'created_at': '2022-08-14T01:40:35.531839Z',\n",
       "    'crypto_status': 'ACTIVE',\n",
       "    'currency': 'USD',\n",
       "    'daytrade_count': 0,\n",
       "    'daytrading_buying_power': '0',\n",
       "    'effective_buying_power': '200000',\n",
       "    'equity': '100000',\n",
       "    'id': 'c004547e-ee7a-49a2-a482-c1fdd4e67e07',\n",
       "    'initial_margin': '0',\n",
       "    'last_equity': '100000',\n",
       "    'last_maintenance_margin': '0',\n",
       "    'long_market_value': '0',\n",
       "    'maintenance_margin': '0',\n",
       "    'multiplier': '2',\n",
       "    'non_marginable_buying_power': '100000',\n",
       "    'pattern_day_trader': False,\n",
       "    'pending_transfer_in': '0',\n",
       "    'portfolio_value': '100000',\n",
       "    'position_market_value': '0',\n",
       "    'regt_buying_power': '200000',\n",
       "    'short_market_value': '0',\n",
       "    'shorting_enabled': True,\n",
       "    'sma': '100000',\n",
       "    'status': 'ACTIVE',\n",
       "    'trade_suspended_by_user': False,\n",
       "    'trading_blocked': False,\n",
       "    'transfers_blocked': False})"
      ]
     },
     "execution_count": 6,
     "metadata": {},
     "output_type": "execute_result"
    }
   ],
   "source": [
    "API.get_account()"
   ]
  },
  {
   "cell_type": "code",
   "execution_count": 31,
   "id": "c45f7fe3-f0cf-4d82-9720-3861ffcbe15d",
   "metadata": {},
   "outputs": [],
   "source": [
    "order = API.submit_order(\n",
    "    'AAPL',\n",
    "    100,\n",
    "    'buy',\n",
    "    'limit',\n",
    "    'day',\n",
    "    130,\n",
    "    order_class = 'bracket',\n",
    "    take_profit = {\n",
    "    \"limit_price\": \"150\"\n",
    "  },\n",
    "    stop_loss = {\n",
    "    \"stop_price\": \"120\",\n",
    "    \"limit_price\": \"119\"\n",
    "  },\n",
    ")"
   ]
  },
  {
   "cell_type": "code",
   "execution_count": 99,
   "id": "0ac1ba89-6c5d-44d0-a736-e824b374c929",
   "metadata": {},
   "outputs": [
    {
     "data": {
      "text/plain": [
       "[]"
      ]
     },
     "execution_count": 99,
     "metadata": {},
     "output_type": "execute_result"
    }
   ],
   "source": [
    "API.list_orders()"
   ]
  },
  {
   "cell_type": "code",
   "execution_count": 94,
   "id": "bf41234f-735a-4a5c-a3d6-0e7f97f6a8e3",
   "metadata": {},
   "outputs": [],
   "source": [
    "def go_long(symbol,qty,limit_price,take_profit_price,stop_loss_price):\n",
    "    API = api_access('paper')\n",
    "    long_order = API.submit_order(\n",
    "        symbol = symbol,\n",
    "        qty = qty,\n",
    "        side = 'buy',\n",
    "        type = 'limit',\n",
    "        time_in_force = 'day',\n",
    "        limit_price = limit_price,\n",
    "        order_class = 'bracket',\n",
    "        take_profit = {\n",
    "        \"limit_price\": take_profit_price\n",
    "      },\n",
    "        stop_loss = {\n",
    "        \"stop_price\": stop_loss_price,\n",
    "        \"limit_price\": stop_loss_price*0.99\n",
    "      },\n",
    "    )\n",
    "    long_order = long_order._raw\n",
    "    print (f\"Go long order submitted:\\nOrder ID: {long_order['id']}\\nEntry point: {long_order['limit_price']}\\nTake profit point: {long_order['legs'][0]['limit_price']}\\nStop loss point: {long_order['legs'][1]['limit_price']}\")\n",
    "    return long_order\n",
    "    "
   ]
  },
  {
   "cell_type": "code",
   "execution_count": 5,
   "id": "d1a4e783-5c54-41eb-b8ff-14a2ce941534",
   "metadata": {},
   "outputs": [],
   "source": [
    "def go_short(symbol,qty,limit_price,take_profit_price,stop_loss_price):\n",
    "    API = api_access('paper')\n",
    "    short_order = API.submit_order(\n",
    "        symbol = symbol,\n",
    "        qty = qty,\n",
    "        side = 'sell',\n",
    "        type = 'limit',\n",
    "        time_in_force = 'day',\n",
    "        limit_price = limit_price,\n",
    "        order_class = 'bracket',\n",
    "        take_profit = {\n",
    "        \"limit_price\": take_profit_price\n",
    "      },\n",
    "        stop_loss = {\n",
    "        \"stop_price\": stop_loss_price,\n",
    "        \"limit_price\": stop_loss_price*1.01\n",
    "      },\n",
    "    )\n",
    "    short_order = short_order._raw\n",
    "    print (f\"Short selling order submitted:\\nOrder ID: {short_order['id']}\\nEntry point: {short_order['limit_price']}\\nTake profit point: {short_order['legs'][0]['limit_price']}\\nStop loss point: {short_order['legs'][1]['limit_price']}\")\n",
    "    return short_order\n",
    "    \n",
    "    \n",
    "    "
   ]
  },
  {
   "cell_type": "code",
   "execution_count": 96,
   "id": "cdee6aed-f7f6-4b71-96c2-c14fc5930b39",
   "metadata": {},
   "outputs": [
    {
     "name": "stdout",
     "output_type": "stream",
     "text": [
      "Paper API connected\n",
      "Go long order submitted:\n",
      "Order ID: 903a1050-439a-4de8-96be-2302cf9be93f\n",
      "Entry point: 130\n",
      "Take profit point: 140\n",
      "Stop loss point: 118.8\n"
     ]
    }
   ],
   "source": [
    "API.cancel_all_orders()\n",
    "last_order = go_long('AAPL',10,130,140,120)"
   ]
  },
  {
   "cell_type": "code",
   "execution_count": 6,
   "id": "dc7b430d-40b3-403c-8f39-50df1e32e7dc",
   "metadata": {},
   "outputs": [
    {
     "name": "stdout",
     "output_type": "stream",
     "text": [
      "Paper API connected\n",
      "Short selling order submitted:\n",
      "Order ID: 905178f5-3adf-471e-a137-788d402853b9\n",
      "Entry point: 140\n",
      "Take profit point: 130\n",
      "Stop loss point: 151.5\n"
     ]
    }
   ],
   "source": [
    "API.cancel_all_orders()\n",
    "last_order = go_short('AAPL',10,140,130,150)"
   ]
  },
  {
   "cell_type": "code",
   "execution_count": null,
   "id": "3ad33aaa-e432-4bad-8f51-4885402e52e1",
   "metadata": {},
   "outputs": [],
   "source": []
  }
 ],
 "metadata": {
  "kernelspec": {
   "display_name": "FinTech",
   "language": "python",
   "name": "fintech"
  },
  "language_info": {
   "codemirror_mode": {
    "name": "ipython",
    "version": 3
   },
   "file_extension": ".py",
   "mimetype": "text/x-python",
   "name": "python",
   "nbconvert_exporter": "python",
   "pygments_lexer": "ipython3",
   "version": "3.7.13"
  }
 },
 "nbformat": 4,
 "nbformat_minor": 5
}
