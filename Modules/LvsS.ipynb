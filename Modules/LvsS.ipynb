{
 "cells": [
  {
   "cell_type": "code",
   "execution_count": 1219,
   "id": "2cae6439-b543-4ab4-a886-350cb22cd0a9",
   "metadata": {},
   "outputs": [],
   "source": [
    "from CleanData import get_data\n",
    "import hvplot.pandas\n",
    "import pandas as pd\n",
    "import numpy as np"
   ]
  },
  {
   "cell_type": "code",
   "execution_count": 1220,
   "id": "cf765c21-ca51-4a5e-b924-14ef2fbef372",
   "metadata": {},
   "outputs": [
    {
     "name": "stdout",
     "output_type": "stream",
     "text": [
      "Data API connected\n",
      "requesting ['spy'] data\n"
     ]
    },
    {
     "ename": "AttributeError",
     "evalue": "'Index' object has no attribute 'tz_convert'",
     "output_type": "error",
     "traceback": [
      "\u001b[0;31m---------------------------------------------------------------------------\u001b[0m",
      "\u001b[0;31mAttributeError\u001b[0m                            Traceback (most recent call last)",
      "\u001b[0;32m/var/folders/_f/j_14t_bj18vf6gn7f7zgmbkw0000gn/T/ipykernel_1270/1905753786.py\u001b[0m in \u001b[0;36m<module>\u001b[0;34m\u001b[0m\n\u001b[0;32m----> 1\u001b[0;31m \u001b[0mData_df\u001b[0m \u001b[0;34m=\u001b[0m \u001b[0mget_data\u001b[0m\u001b[0;34m(\u001b[0m\u001b[0;34m'data'\u001b[0m\u001b[0;34m,\u001b[0m\u001b[0;34m[\u001b[0m\u001b[0;34m'spy'\u001b[0m\u001b[0;34m]\u001b[0m\u001b[0;34m,\u001b[0m\u001b[0;34m'1Min'\u001b[0m\u001b[0;34m,\u001b[0m\u001b[0;32mNone\u001b[0m\u001b[0;34m,\u001b[0m\u001b[0;34m)\u001b[0m\u001b[0;34m\u001b[0m\u001b[0;34m\u001b[0m\u001b[0m\n\u001b[0m",
      "\u001b[0;32m~/Desktop/AlgoTrader/Modules/CleanData.py\u001b[0m in \u001b[0;36mget_data\u001b[0;34m(type, Symbol, timeframe, start, end)\u001b[0m\n\u001b[1;32m     18\u001b[0m     \u001b[0mdata_df\u001b[0m \u001b[0;34m=\u001b[0m \u001b[0mpaper_api\u001b[0m\u001b[0;34m.\u001b[0m\u001b[0mget_bars\u001b[0m\u001b[0;34m(\u001b[0m\u001b[0mSymbol\u001b[0m\u001b[0;34m,\u001b[0m\u001b[0mtimeframe\u001b[0m\u001b[0;34m,\u001b[0m\u001b[0mstart\u001b[0m\u001b[0;34m,\u001b[0m\u001b[0mend\u001b[0m\u001b[0;34m)\u001b[0m\u001b[0;34m.\u001b[0m\u001b[0mdf\u001b[0m\u001b[0;34m\u001b[0m\u001b[0;34m\u001b[0m\u001b[0m\n\u001b[1;32m     19\u001b[0m     \u001b[0;31m#Convert received data time zone the same as WallStreet\u001b[0m\u001b[0;34m\u001b[0m\u001b[0;34m\u001b[0m\u001b[0;34m\u001b[0m\u001b[0m\n\u001b[0;32m---> 20\u001b[0;31m     \u001b[0mdata_df\u001b[0m\u001b[0;34m.\u001b[0m\u001b[0mindex\u001b[0m \u001b[0;34m=\u001b[0m \u001b[0mdata_df\u001b[0m\u001b[0;34m.\u001b[0m\u001b[0mindex\u001b[0m\u001b[0;34m.\u001b[0m\u001b[0mtz_convert\u001b[0m\u001b[0;34m(\u001b[0m\u001b[0;34m'America/New_York'\u001b[0m\u001b[0;34m)\u001b[0m\u001b[0;34m\u001b[0m\u001b[0;34m\u001b[0m\u001b[0m\n\u001b[0m\u001b[1;32m     21\u001b[0m     \u001b[0;31m# drop NA\u001b[0m\u001b[0;34m\u001b[0m\u001b[0;34m\u001b[0m\u001b[0;34m\u001b[0m\u001b[0m\n\u001b[1;32m     22\u001b[0m     \u001b[0mdata_df\u001b[0m \u001b[0;34m=\u001b[0m \u001b[0mdata_df\u001b[0m\u001b[0;34m.\u001b[0m\u001b[0mdropna\u001b[0m\u001b[0;34m(\u001b[0m\u001b[0;34m)\u001b[0m\u001b[0;34m\u001b[0m\u001b[0;34m\u001b[0m\u001b[0m\n",
      "\u001b[0;31mAttributeError\u001b[0m: 'Index' object has no attribute 'tz_convert'"
     ]
    }
   ],
   "source": [
    "Data_df = get_data('data',['spy'],'1Min',None,)"
   ]
  },
  {
   "cell_type": "code",
   "execution_count": null,
   "id": "4fd70f7f-b833-4aef-8571-735b9ff6d35c",
   "metadata": {},
   "outputs": [],
   "source": [
    "Data_df.sort_values(by='volume',ascending=True)"
   ]
  },
  {
   "cell_type": "code",
   "execution_count": null,
   "id": "97569cfd-b85e-471f-a243-becafefc7d77",
   "metadata": {},
   "outputs": [],
   "source": [
    "Data_df['percent'],cut_bin = pd.qcut(Data_df['volume'],[0,0.45,0.7,0.95,1], labels = ['小战', '中战', '大战', '战役'],retbins=True)"
   ]
  },
  {
   "cell_type": "code",
   "execution_count": null,
   "id": "49dc9e87-0d78-4c2d-8b01-4dcb40c3363b",
   "metadata": {},
   "outputs": [],
   "source": [
    "# Create a shifted column with the last close price.\n",
    "Data_df['last_close'] = Data_df['close'].shift().dropna()"
   ]
  },
  {
   "cell_type": "code",
   "execution_count": null,
   "id": "a10028f9-e422-44b0-9d76-c73ff1791ad7",
   "metadata": {},
   "outputs": [],
   "source": [
    "cut_bin"
   ]
  },
  {
   "cell_type": "code",
   "execution_count": null,
   "id": "67e7c55b-aa23-4a85-b2f5-fb122760f4d4",
   "metadata": {},
   "outputs": [],
   "source": [
    "#Assign In and Out Sentiment\n",
    "Data_df['Sentiment']=np.where(Data_df['last_close'] < Data_df['close'],'多军','空军')\n",
    "\n",
    "# Modify last_close equal to close to 'Tide'\n",
    "Data_df.loc[Data_df['last_close'] == Data_df['close'],'Sentment'] = 'Tide'"
   ]
  },
  {
   "cell_type": "code",
   "execution_count": null,
   "id": "3afc3f57-e2e1-4411-b570-5409ec452145",
   "metadata": {},
   "outputs": [],
   "source": [
    "Data_df"
   ]
  },
  {
   "cell_type": "code",
   "execution_count": null,
   "id": "f053f2f2-4436-4603-898b-d966ee78940f",
   "metadata": {},
   "outputs": [],
   "source": [
    "Data_df[Data_df['last_close'] == Data_df['close']]['volume'].sum()"
   ]
  },
  {
   "cell_type": "code",
   "execution_count": null,
   "id": "4bcedc09-4fc6-4e55-aa46-b21c387f86cc",
   "metadata": {},
   "outputs": [],
   "source": [
    "Data_df['volume'].sum()"
   ]
  },
  {
   "cell_type": "code",
   "execution_count": null,
   "id": "1cb4b72f-627a-4ae5-9fa7-429a7b42d1cf",
   "metadata": {},
   "outputs": [],
   "source": [
    "# Drop all Tide Sentiment.\n",
    "Data_df.drop(Data_df[Data_df['last_close'] == Data_df['close']].index,inplace=True)"
   ]
  },
  {
   "cell_type": "code",
   "execution_count": null,
   "id": "cb2ed63f-ee0e-4296-b6c6-fb7e37b777ca",
   "metadata": {},
   "outputs": [],
   "source": [
    "# Double check the 'Tide' counts.\n",
    "Data_df[Data_df['last_close'] == Data_df['close']]['volume'].sum()"
   ]
  },
  {
   "cell_type": "code",
   "execution_count": null,
   "id": "e4a6072b-1b23-4402-bfa8-bcd1ecea7e94",
   "metadata": {},
   "outputs": [],
   "source": [
    "Ticker = Data_df['symbol'][0]\n",
    "type(Ticker)\n",
    "Ticker\n",
    "Start_time = Data_df.index.min()\n",
    "End_time = Data_df.index.max()"
   ]
  },
  {
   "cell_type": "code",
   "execution_count": null,
   "id": "265db544-ae0e-4ee0-a44c-b7c28769de2e",
   "metadata": {},
   "outputs": [],
   "source": [
    "Data_df.hvplot.bar(\n",
    "    x = 'Sentiment',\n",
    "    xlabel = '多空双方',\n",
    "    y= 'volume',\n",
    "    ylabel = '交涉兵力',\n",
    "    by = 'percent',\n",
    "    stacked=False,\n",
    "    height=300,\n",
    "    width=900, \n",
    "    yformatter='%0f',\n",
    "    title = f'多空双方胜负场数对比-{Ticker} - 时间跨度：{Start_time} - {End_time}'\n",
    ")"
   ]
  }
 ],
 "metadata": {
  "kernelspec": {
   "display_name": "FinTech",
   "language": "python",
   "name": "fintech"
  },
  "language_info": {
   "codemirror_mode": {
    "name": "ipython",
    "version": 3
   },
   "file_extension": ".py",
   "mimetype": "text/x-python",
   "name": "python",
   "nbconvert_exporter": "python",
   "pygments_lexer": "ipython3",
   "version": "3.7.13"
  }
 },
 "nbformat": 4,
 "nbformat_minor": 5
}
