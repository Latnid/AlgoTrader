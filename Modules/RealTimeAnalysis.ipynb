{
 "cells": [
  {
   "cell_type": "code",
   "execution_count": 16,
   "id": "7d5d235f-f8d2-4a21-8dee-ec88268e1caa",
   "metadata": {},
   "outputs": [],
   "source": [
    "from ConnectDB import *\n",
    "import pandas as pd\n",
    "import pandas_ta as ta\n",
    "from indicators import add_indicators"
   ]
  },
  {
   "cell_type": "code",
   "execution_count": 19,
   "id": "2e08fffe-5b33-41f3-a941-967a1242fdb0",
   "metadata": {},
   "outputs": [
    {
     "name": "stdout",
     "output_type": "stream",
     "text": [
      "DataBase Connected!\n",
      "Version: PostgreSQL 14.5 (Homebrew) on aarch64-apple-darwin22.1.0, compiled by Apple clang version 14.0.0 (clang-1400.0.29.202), 64-bit\n"
     ]
    }
   ],
   "source": [
    "# Create connection\n",
    "con,cur = connect_data_base()"
   ]
  },
  {
   "cell_type": "code",
   "execution_count": 13,
   "id": "97fc4e41-be59-4dc0-b79b-48d712cad5ef",
   "metadata": {},
   "outputs": [],
   "source": [
    "def postgresql_to_dataframe(conn, select_query, column_names):\n",
    "    \"\"\"\n",
    "    Tranform a SELECT query into a pandas dataframe\n",
    "    \"\"\"\n",
    "    cursor = conn.cursor()\n",
    "    try:\n",
    "        cursor.execute(select_query)\n",
    "    except (Exception, psycopg2.DatabaseError) as error:\n",
    "        print(\"Error: %s\" % error)\n",
    "        cursor.close()\n",
    "        return 1\n",
    "    \n",
    "    # Naturally we get a list of tupples\n",
    "    tupples = cursor.fetchall()\n",
    "    cursor.close()\n",
    "    \n",
    "    # We just need to turn it into a pandas dataframe\n",
    "    df = pd.DataFrame(tupples, columns=column_names)\n",
    "    return df\n",
    "\n",
    "df = postgresql_to_dataframe(conn=con, select_query=\"SELECT * FROM cryptodata_2022_11_09\", column_names=['symbol', 'timestamp', 'open', 'high', 'low', 'close', 'volume', 'trade_count', 'vwap'])"
   ]
  },
  {
   "cell_type": "code",
   "execution_count": 8,
   "id": "7ad66c11-11ae-4a0d-bbd3-0a0d8ffa2d84",
   "metadata": {},
   "outputs": [],
   "source": [
    "import pandas as pd\n",
    "import numpy as np\n",
    "import streamz\n",
    "import streamz.dataframe as sdf\n",
    "import hvplot.streamz\n",
    "import hvplot.pandas\n",
    "import holoviews as hv\n",
    "import datetime\n",
    "import time\n",
    "import psycopg2\n",
    "from ConnectDB import *\n",
    "from streamz import Stream"
   ]
  },
  {
   "cell_type": "code",
   "execution_count": null,
   "id": "58419de8-211e-4230-a626-26c9eca66f7e",
   "metadata": {},
   "outputs": [],
   "source": [
    "con,cur = connect_data_base()\n",
    "cur.execute(\"SELECT * FROM cryptodata_2022_11_09 ORDER BY timestamp DESC LIMIT 60\")\n",
    "rows = cur.fetchall()\n",
    "df = pd.DataFrame(rows, columns=['symbol', 'timestamp', 'open', 'high', 'low', 'close', 'volume', 'trade_count', 'vwap'])\n",
    "df = df[['timestamp','close']]\n",
    "\n",
    "stream = Stream()\n",
    "\n",
    "source = sdf.DataFrame(stream, example=stream)\n",
    "\n",
    "\n"
   ]
  },
  {
   "cell_type": "code",
   "execution_count": null,
   "id": "68be7f5c-f090-4b3a-bf0b-6127e9ac6750",
   "metadata": {},
   "outputs": [],
   "source": [
    "import dash\n",
    "import dash_core_components as dcc\n",
    "import dash_html_components as html\n",
    "from dash import dash_table\n",
    "import pandas as pd\n",
    "\n",
    "app = dash.Dash(__name__)\n",
    "cur.execute(\"SELECT * FROM cryptodata_2022_11_09 ORDER BY timestamp DESC LIMIT 60\")\n",
    "tupples = cur.fetchall()\n",
    "df = pd.DataFrame(data=tupples, columns=['symbol', 'timestamp', 'open', 'high', 'low', 'close', 'volume', 'trade_count', 'vwap'])\n",
    "\n",
    "app.layout = html.Div([\n",
    "      html.H4('Dashboard'),\n",
    "      dcc.Interval('graph-update', interval = 2000, n_intervals = 0),\n",
    "      dash_table.DataTable(\n",
    "          id = 'table',\n",
    "          data = df.to_dict('records'),\n",
    "          columns=[{\"name\": i, \"id\": i} for i in df.columns])])\n",
    "\n",
    "@app.callback(\n",
    "        dash.dependencies.Output('table','data'),\n",
    "        [dash.dependencies.Input('graph-update', 'n_intervals')])\n",
    "def updateTable(n):\n",
    "    \"\"\" Query database \n",
    "    \"\"\"\n",
    "    cur.execute(\"SELECT * FROM cryptodata_2022_11_09 ORDER BY timestamp DESC LIMIT 60\")\n",
    "    tupples = cur.fetchall()\n",
    "    df = pd.DataFrame(data=tupples, columns=['symbol', 'timestamp', 'open', 'high', 'low', 'close', 'volume', 'trade_count', 'vwap'])\n",
    "    return df.to_dict('records')\n",
    "\n",
    "if __name__ == '__main__':\n",
    "     app.run_server(debug=True, port=8080)"
   ]
  },
  {
   "cell_type": "code",
   "execution_count": null,
   "id": "a6804c0b-7dc8-44c2-aa48-00135153712e",
   "metadata": {},
   "outputs": [],
   "source": [
    "import psycopg2\n",
    "import dash\n",
    "import dash_core_components as dcc\n",
    "import dash_html_components as html\n",
    "\n",
    "con,cur = connect_data_base()\n",
    "cur.execute(\"SELECT * FROM cryptodata_2022_11_09\")\n",
    "rows = cur.fetchall()\n",
    "\n",
    "app = dash.Dash()\n",
    "app.layout = html.Div([\n",
    "    html.Table([html.Tr([html.Th(col) for col in rows[0]])] +\n",
    "               [html.Tr([\n",
    "                   html.Td(row[col]) for col, row in enumerate(rows)\n",
    "               ]) for row in rows]\n",
    "               )\n",
    "])\n",
    "\n",
    "if __name__ == '__main__':\n",
    "    app.run_server(debug=True)"
   ]
  },
  {
   "cell_type": "code",
   "execution_count": null,
   "id": "93297def-2b34-4beb-a967-f25ae8d553c0",
   "metadata": {},
   "outputs": [],
   "source": [
    "df = add_indicators(Data_df = df)"
   ]
  }
 ],
 "metadata": {
  "kernelspec": {
   "display_name": "FinTech",
   "language": "python",
   "name": "fintech"
  },
  "language_info": {
   "codemirror_mode": {
    "name": "ipython",
    "version": 3
   },
   "file_extension": ".py",
   "mimetype": "text/x-python",
   "name": "python",
   "nbconvert_exporter": "python",
   "pygments_lexer": "ipython3",
   "version": "3.7.13"
  }
 },
 "nbformat": 4,
 "nbformat_minor": 5
}
